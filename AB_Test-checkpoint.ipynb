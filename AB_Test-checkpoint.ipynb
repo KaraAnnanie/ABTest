{
 "cells": [
  {
   "cell_type": "markdown",
   "metadata": {},
   "source": [
    "# Hypothesis Testing "
   ]
  },
  {
   "cell_type": "code",
   "execution_count": 227,
   "metadata": {},
   "outputs": [],
   "source": [
    "#Import libraries\n",
    "import pandas as pd\n",
    "import numpy as np\n",
    "from scipy.stats import boxcox, beta, binom, norm, fisher_exact, ttest_ind, f_oneway, chi2_contingency\n",
    "from matplotlib import pyplot as plt \n",
    "import warnings"
   ]
  },
  {
   "cell_type": "code",
   "execution_count": 228,
   "metadata": {},
   "outputs": [],
   "source": [
    "#Notebook settings\n",
    "#A notebook is an ideal working environment for this type of analysis, which is a human/analysis intensive effort that\n",
    "#does not need to be productionalized. A notebook environment may not be appropriate in other types of situations.\n",
    "%matplotlib inline\n",
    "warnings.filterwarnings('ignore')"
   ]
  },
  {
   "cell_type": "code",
   "execution_count": 229,
   "metadata": {},
   "outputs": [],
   "source": [
    "#Load data into memory as a dataframe using the pandas library\n",
    "df = pd.read_csv('expByuser.csv', index_col = 0)"
   ]
  },
  {
   "cell_type": "markdown",
   "metadata": {},
   "source": [
    "## Step 1: Data Exploration & Cleaning"
   ]
  },
  {
   "cell_type": "code",
   "execution_count": 230,
   "metadata": {
    "scrolled": true
   },
   "outputs": [
    {
     "data": {
      "text/plain": [
       "variant  u_custom_platform\n",
       "0        Amazon               12400\n",
       "         Android              56899\n",
       "         iOS                  75118\n",
       "1        Amazon               12351\n",
       "         Android              57733\n",
       "         iOS                  74690\n",
       "2        Amazon               12144\n",
       "         Android              57085\n",
       "         iOS                  75094\n",
       "dtype: int64"
      ]
     },
     "execution_count": 230,
     "metadata": {},
     "output_type": "execute_result"
    }
   ],
   "source": [
    "#Print value counts -- in order for an AB test to be valid, the test should be randomly distributed\n",
    "df.groupby(['variant', 'u_custom_platform']).size()"
   ]
  },
  {
   "cell_type": "code",
   "execution_count": 279,
   "metadata": {},
   "outputs": [
    {
     "data": {
      "text/plain": [
       "iOS        215710\n",
       "Android    171715\n",
       "Amazon      36895\n",
       "Name: u_custom_platform, dtype: int64"
      ]
     },
     "execution_count": 279,
     "metadata": {},
     "output_type": "execute_result"
    }
   ],
   "source": [
    "#Summarize by platform only\n",
    "df['u_custom_platform'].value_counts(dropna=False)"
   ]
  },
  {
   "cell_type": "code",
   "execution_count": 280,
   "metadata": {},
   "outputs": [
    {
     "data": {
      "text/plain": [
       "1    141790\n",
       "2    141278\n",
       "0    141252\n",
       "Name: variant, dtype: int64"
      ]
     },
     "execution_count": 280,
     "metadata": {},
     "output_type": "execute_result"
    }
   ],
   "source": [
    "#Summarize by variant only\n",
    "df['variant'].value_counts(dropna=False)"
   ]
  },
  {
   "cell_type": "code",
   "execution_count": 231,
   "metadata": {},
   "outputs": [
    {
     "data": {
      "text/plain": [
       "entry_date  u_custom_platform\n",
       "2016-01-13  Amazon                2853\n",
       "            Android               4460\n",
       "2016-01-14  Amazon                4089\n",
       "            Android              11429\n",
       "2016-01-15  Amazon                2822\n",
       "            Android               7896\n",
       "2016-01-16  Amazon                2499\n",
       "            Android               5861\n",
       "2016-01-17  Amazon                2642\n",
       "            Android               5594\n",
       "2016-01-18  Amazon                2158\n",
       "            Android               8086\n",
       "2016-01-19  Amazon                1978\n",
       "            Android              18176\n",
       "            iOS                  52981\n",
       "2016-01-20  Amazon                1868\n",
       "            Android              14337\n",
       "            iOS                  28296\n",
       "2016-01-21  Amazon                1264\n",
       "            Android               9658\n",
       "            iOS                  18362\n",
       "2016-01-22  Amazon                1188\n",
       "            Android               8718\n",
       "            iOS                  15429\n",
       "2016-01-23  Amazon                1291\n",
       "            Android               8215\n",
       "            iOS                  15550\n",
       "2016-01-24  Amazon                2256\n",
       "            Android               7943\n",
       "            iOS                  13990\n",
       "2016-01-25  Amazon                1457\n",
       "            Android               7447\n",
       "            iOS                  12021\n",
       "2016-01-26  Amazon                1857\n",
       "            Android               7074\n",
       "            iOS                  10507\n",
       "2016-01-27  Amazon                1810\n",
       "            Android               8252\n",
       "            iOS                  10345\n",
       "2016-01-28  Amazon                1595\n",
       "            Android               9852\n",
       "            iOS                   9812\n",
       "2016-01-29  Amazon                1031\n",
       "            Android               9749\n",
       "            iOS                   9110\n",
       "2016-01-30  Amazon                1160\n",
       "            Android               9510\n",
       "            iOS                   9360\n",
       "2016-01-31  Amazon                1077\n",
       "            Android               9460\n",
       "            iOS                   9947\n",
       "dtype: int64"
      ]
     },
     "execution_count": 231,
     "metadata": {},
     "output_type": "execute_result"
    }
   ],
   "source": [
    "# There are observations in here for iOS that took place before the experiment officially started for iOS, \n",
    "# so let's remove them since they should not be included as part of the experiment\n",
    " \n",
    "# Experiment starting dates per the documentation\n",
    "# Android: 1/13/2016\n",
    "# Amazon: 1/13/2016\n",
    "# iOS: 1/19/2016\n",
    "\n",
    "l = ['2016-01-13', '2016-01-14', '2016-01-15', '2016-01-16', '2016-01-17', '2016-01-18']\n",
    "\n",
    "df2 = df[df['u_custom_platform']!='iOS']\n",
    "df3 = df[df['u_custom_platform']=='iOS']\n",
    "\n",
    "df3 = df3[~df3['entry_date'].isin(l)]\n",
    "df = df2.append(df3)\n",
    "\n",
    "df.groupby(['entry_date', \"u_custom_platform\"]).size()"
   ]
  },
  {
   "cell_type": "code",
   "execution_count": 232,
   "metadata": {},
   "outputs": [
    {
     "data": {
      "text/plain": [
       "1.15.0    389395\n",
       "1.16.0     34923\n",
       "1.16.5         4\n",
       "Name: version_name, dtype: int64"
      ]
     },
     "execution_count": 232,
     "metadata": {},
     "output_type": "execute_result"
    }
   ],
   "source": [
    "# Note that there are no records in here for 1.13, even though the document said that the experiment was accidentally\n",
    "# sent out as part of 1.13...\n",
    "df['version_name'].value_counts(dropna=False)"
   ]
  },
  {
   "cell_type": "code",
   "execution_count": 233,
   "metadata": {},
   "outputs": [
    {
     "data": {
      "text/plain": [
       "New                    216290\n",
       "Existing - NonPayer    200505\n",
       "Existing - Payer         7527\n",
       "Name: playertype, dtype: int64"
      ]
     },
     "execution_count": 233,
     "metadata": {},
     "output_type": "execute_result"
    }
   ],
   "source": [
    "#Let's take a look at player types\n",
    "df['playertype'].value_counts(dropna=False)"
   ]
  },
  {
   "cell_type": "code",
   "execution_count": 234,
   "metadata": {},
   "outputs": [],
   "source": [
    "#Create a binary variable to identify new players so we can test whether there's an increased prevalence of new players\n",
    "#in each of the variants vs the control\n",
    "df['new'] = df['playertype'].apply(lambda x: 1 if x=='New' else 0)"
   ]
  },
  {
   "cell_type": "code",
   "execution_count": 297,
   "metadata": {},
   "outputs": [
    {
     "data": {
      "text/html": [
       "<div>\n",
       "<style scoped>\n",
       "    .dataframe tbody tr th:only-of-type {\n",
       "        vertical-align: middle;\n",
       "    }\n",
       "\n",
       "    .dataframe tbody tr th {\n",
       "        vertical-align: top;\n",
       "    }\n",
       "\n",
       "    .dataframe thead th {\n",
       "        text-align: right;\n",
       "    }\n",
       "</style>\n",
       "<table border=\"1\" class=\"dataframe\">\n",
       "  <thead>\n",
       "    <tr style=\"text-align: right;\">\n",
       "      <th></th>\n",
       "      <th>new</th>\n",
       "    </tr>\n",
       "    <tr>\n",
       "      <th>variant</th>\n",
       "      <th></th>\n",
       "    </tr>\n",
       "  </thead>\n",
       "  <tbody>\n",
       "    <tr>\n",
       "      <th>0</th>\n",
       "      <td>72086</td>\n",
       "    </tr>\n",
       "    <tr>\n",
       "      <th>1</th>\n",
       "      <td>72241</td>\n",
       "    </tr>\n",
       "    <tr>\n",
       "      <th>2</th>\n",
       "      <td>71963</td>\n",
       "    </tr>\n",
       "  </tbody>\n",
       "</table>\n",
       "</div>"
      ],
      "text/plain": [
       "           new\n",
       "variant       \n",
       "0        72086\n",
       "1        72241\n",
       "2        71963"
      ]
     },
     "execution_count": 297,
     "metadata": {},
     "output_type": "execute_result"
    }
   ],
   "source": [
    "#Difference in new players across variants? \n",
    "df[['new', 'variant']].groupby('variant').sum()"
   ]
  },
  {
   "cell_type": "code",
   "execution_count": 235,
   "metadata": {},
   "outputs": [
    {
     "data": {
      "text/plain": [
       "count    424322.000000\n",
       "mean         81.496745\n",
       "std         312.202059\n",
       "min           0.000000\n",
       "25%           7.000000\n",
       "50%          23.000000\n",
       "75%          70.000000\n",
       "max      125389.000000\n",
       "Name: heartbeats, dtype: float64"
      ]
     },
     "execution_count": 235,
     "metadata": {},
     "output_type": "execute_result"
    }
   ],
   "source": [
    "#Look at the summary statistics for heartbeats - 1 heartbeat is approx = to 1 minute of playtime per the documentation\n",
    "df['heartbeats'].describe()"
   ]
  },
  {
   "cell_type": "code",
   "execution_count": 236,
   "metadata": {},
   "outputs": [
    {
     "data": {
      "text/html": [
       "<div>\n",
       "<style scoped>\n",
       "    .dataframe tbody tr th:only-of-type {\n",
       "        vertical-align: middle;\n",
       "    }\n",
       "\n",
       "    .dataframe tbody tr th {\n",
       "        vertical-align: top;\n",
       "    }\n",
       "\n",
       "    .dataframe thead th {\n",
       "        text-align: right;\n",
       "    }\n",
       "</style>\n",
       "<table border=\"1\" class=\"dataframe\">\n",
       "  <thead>\n",
       "    <tr style=\"text-align: right;\">\n",
       "      <th></th>\n",
       "      <th>variant</th>\n",
       "      <th>entry_date</th>\n",
       "      <th>u_custom_platform</th>\n",
       "      <th>version_name</th>\n",
       "      <th>install_date</th>\n",
       "      <th>first_pay_date</th>\n",
       "      <th>playertype</th>\n",
       "      <th>revenue</th>\n",
       "      <th>bc</th>\n",
       "      <th>txns</th>\n",
       "      <th>heartbeats</th>\n",
       "      <th>spins</th>\n",
       "      <th>buypageviews</th>\n",
       "      <th>d1</th>\n",
       "      <th>d7</th>\n",
       "      <th>d14</th>\n",
       "      <th>revenue_before</th>\n",
       "      <th>new</th>\n",
       "    </tr>\n",
       "  </thead>\n",
       "  <tbody>\n",
       "    <tr>\n",
       "      <th>55380</th>\n",
       "      <td>0</td>\n",
       "      <td>2016-01-13</td>\n",
       "      <td>Android</td>\n",
       "      <td>1.15.0</td>\n",
       "      <td>2015-09-04</td>\n",
       "      <td>2015-09-06</td>\n",
       "      <td>Existing - Payer</td>\n",
       "      <td>496.49</td>\n",
       "      <td>1</td>\n",
       "      <td>51</td>\n",
       "      <td>125389</td>\n",
       "      <td>3673486</td>\n",
       "      <td>2872</td>\n",
       "      <td>1</td>\n",
       "      <td>1</td>\n",
       "      <td>1</td>\n",
       "      <td>0.0</td>\n",
       "      <td>0</td>\n",
       "    </tr>\n",
       "    <tr>\n",
       "      <th>278860</th>\n",
       "      <td>0</td>\n",
       "      <td>2016-01-13</td>\n",
       "      <td>Android</td>\n",
       "      <td>1.15.0</td>\n",
       "      <td>2015-09-04</td>\n",
       "      <td>2015-09-12</td>\n",
       "      <td>Existing - Payer</td>\n",
       "      <td>84.81</td>\n",
       "      <td>1</td>\n",
       "      <td>19</td>\n",
       "      <td>77609</td>\n",
       "      <td>2049366</td>\n",
       "      <td>3254</td>\n",
       "      <td>1</td>\n",
       "      <td>1</td>\n",
       "      <td>1</td>\n",
       "      <td>0.0</td>\n",
       "      <td>0</td>\n",
       "    </tr>\n",
       "  </tbody>\n",
       "</table>\n",
       "</div>"
      ],
      "text/plain": [
       "        variant  entry_date u_custom_platform version_name install_date  \\\n",
       "55380         0  2016-01-13           Android       1.15.0   2015-09-04   \n",
       "278860        0  2016-01-13           Android       1.15.0   2015-09-04   \n",
       "\n",
       "       first_pay_date        playertype  revenue  bc  txns  heartbeats  \\\n",
       "55380      2015-09-06  Existing - Payer   496.49   1    51      125389   \n",
       "278860     2015-09-12  Existing - Payer    84.81   1    19       77609   \n",
       "\n",
       "          spins  buypageviews  d1  d7  d14  revenue_before  new  \n",
       "55380   3673486          2872   1   1    1             0.0    0  \n",
       "278860  2049366          3254   1   1    1             0.0    0  "
      ]
     },
     "execution_count": 236,
     "metadata": {},
     "output_type": "execute_result"
    }
   ],
   "source": [
    "#The max value for heartbeats is suspiciously high -- print out the rows with heartbeats > 30,240, which is approx how\n",
    "#many minutes there were in the study\n",
    "df[df['heartbeats']>= 30240].head()\n",
    "#Note that there are only 2 obs and they looks suspicious - let's drop them from the hypothesis testing"
   ]
  },
  {
   "cell_type": "code",
   "execution_count": 237,
   "metadata": {},
   "outputs": [],
   "source": [
    "#Drop unusually high heartbeat obs\n",
    "df = df[df['heartbeats'] < 30240]"
   ]
  },
  {
   "cell_type": "code",
   "execution_count": 238,
   "metadata": {},
   "outputs": [
    {
     "data": {
      "text/plain": [
       "<matplotlib.axes._subplots.AxesSubplot at 0x1f1a07f8c18>"
      ]
     },
     "execution_count": 238,
     "metadata": {},
     "output_type": "execute_result"
    },
    {
     "data": {
      "image/png": "[encoded data removed]",
      "text/plain": [
       "<Figure size 432x288 with 1 Axes>"
      ]
     },
     "metadata": {
      "needs_background": "light"
     },
     "output_type": "display_data"
    }
   ],
   "source": [
    "#Plot histogram for continuous variable - note highly right skewed\n",
    "df['heartbeats'].hist()"
   ]
  },
  {
   "cell_type": "code",
   "execution_count": 281,
   "metadata": {},
   "outputs": [
    {
     "data": {
      "text/html": [
       "<div>\n",
       "<style scoped>\n",
       "    .dataframe tbody tr th:only-of-type {\n",
       "        vertical-align: middle;\n",
       "    }\n",
       "\n",
       "    .dataframe tbody tr th {\n",
       "        vertical-align: top;\n",
       "    }\n",
       "\n",
       "    .dataframe thead th {\n",
       "        text-align: right;\n",
       "    }\n",
       "</style>\n",
       "<table border=\"1\" class=\"dataframe\">\n",
       "  <thead>\n",
       "    <tr style=\"text-align: right;\">\n",
       "      <th></th>\n",
       "      <th>heartbeats</th>\n",
       "    </tr>\n",
       "    <tr>\n",
       "      <th>variant</th>\n",
       "      <th></th>\n",
       "    </tr>\n",
       "  </thead>\n",
       "  <tbody>\n",
       "    <tr>\n",
       "      <th>0</th>\n",
       "      <td>164</td>\n",
       "    </tr>\n",
       "    <tr>\n",
       "      <th>1</th>\n",
       "      <td>161</td>\n",
       "    </tr>\n",
       "    <tr>\n",
       "      <th>2</th>\n",
       "      <td>176</td>\n",
       "    </tr>\n",
       "  </tbody>\n",
       "</table>\n",
       "</div>"
      ],
      "text/plain": [
       "         heartbeats\n",
       "variant            \n",
       "0               164\n",
       "1               161\n",
       "2               176"
      ]
     },
     "execution_count": 281,
     "metadata": {},
     "output_type": "execute_result"
    }
   ],
   "source": [
    "#Note that the median playtime actually decreased slightly in the variants\n",
    "df[df['bc']>0][['variant', 'heartbeats']].groupby('variant').median()"
   ]
  },
  {
   "cell_type": "code",
   "execution_count": 282,
   "metadata": {},
   "outputs": [
    {
     "data": {
      "text/html": [
       "<div>\n",
       "<style scoped>\n",
       "    .dataframe tbody tr th:only-of-type {\n",
       "        vertical-align: middle;\n",
       "    }\n",
       "\n",
       "    .dataframe tbody tr th {\n",
       "        vertical-align: top;\n",
       "    }\n",
       "\n",
       "    .dataframe thead th {\n",
       "        text-align: right;\n",
       "    }\n",
       "</style>\n",
       "<table border=\"1\" class=\"dataframe\">\n",
       "  <thead>\n",
       "    <tr style=\"text-align: right;\">\n",
       "      <th></th>\n",
       "      <th>d1</th>\n",
       "      <th>d7</th>\n",
       "      <th>d14</th>\n",
       "    </tr>\n",
       "  </thead>\n",
       "  <tbody>\n",
       "    <tr>\n",
       "      <th>0</th>\n",
       "      <td>2288</td>\n",
       "      <td>4300</td>\n",
       "      <td>6922</td>\n",
       "    </tr>\n",
       "    <tr>\n",
       "      <th>1</th>\n",
       "      <td>9928</td>\n",
       "      <td>7916</td>\n",
       "      <td>5294</td>\n",
       "    </tr>\n",
       "  </tbody>\n",
       "</table>\n",
       "</div>"
      ],
      "text/plain": [
       "     d1    d7   d14\n",
       "0  2288  4300  6922\n",
       "1  9928  7916  5294"
      ]
     },
     "execution_count": 282,
     "metadata": {},
     "output_type": "execute_result"
    }
   ],
   "source": [
    "# Print the value counts for d1, d7, and d14\n",
    "df[df['bc']>0][['d1', 'd7', 'd14']].apply(pd.Series.value_counts)"
   ]
  },
  {
   "cell_type": "code",
   "execution_count": 240,
   "metadata": {},
   "outputs": [
    {
     "data": {
      "text/plain": [
       "variant  u_custom_platform  d14\n",
       "0        Amazon             0       9549\n",
       "                            1       2851\n",
       "         Android            0      47266\n",
       "                            1       9631\n",
       "         iOS                0      56752\n",
       "                            1      15203\n",
       "1        Amazon             0       9541\n",
       "                            1       2810\n",
       "         Android            0      47993\n",
       "                            1       9740\n",
       "         iOS                0      56167\n",
       "                            1      15539\n",
       "2        Amazon             0       9316\n",
       "                            1       2828\n",
       "         Android            0      47401\n",
       "                            1       9684\n",
       "         iOS                0      56401\n",
       "                            1      15648\n",
       "dtype: int64"
      ]
     },
     "execution_count": 240,
     "metadata": {},
     "output_type": "execute_result"
    }
   ],
   "source": [
    "# df[['variant', 'u_custom_platform', 'd1']].groupby(['variant', 'u_custom_platform', 'd1']).size()\n",
    "# df[['variant', 'u_custom_platform', 'd7']].groupby(['variant', 'u_custom_platform', 'd7']).size()\n",
    "df[['variant', 'u_custom_platform', 'd14']].groupby(['variant', 'u_custom_platform', 'd14']).size()"
   ]
  },
  {
   "cell_type": "code",
   "execution_count": 241,
   "metadata": {},
   "outputs": [
    {
     "data": {
      "text/html": [
       "<div>\n",
       "<style scoped>\n",
       "    .dataframe tbody tr th:only-of-type {\n",
       "        vertical-align: middle;\n",
       "    }\n",
       "\n",
       "    .dataframe tbody tr th {\n",
       "        vertical-align: top;\n",
       "    }\n",
       "\n",
       "    .dataframe thead th {\n",
       "        text-align: right;\n",
       "    }\n",
       "</style>\n",
       "<table border=\"1\" class=\"dataframe\">\n",
       "  <thead>\n",
       "    <tr style=\"text-align: right;\">\n",
       "      <th></th>\n",
       "      <th>revenue</th>\n",
       "      <th>revenue_before</th>\n",
       "    </tr>\n",
       "  </thead>\n",
       "  <tbody>\n",
       "    <tr>\n",
       "      <th>count</th>\n",
       "      <td>424320.000000</td>\n",
       "      <td>424320.000000</td>\n",
       "    </tr>\n",
       "    <tr>\n",
       "      <th>mean</th>\n",
       "      <td>1.954420</td>\n",
       "      <td>0.476234</td>\n",
       "    </tr>\n",
       "    <tr>\n",
       "      <th>std</th>\n",
       "      <td>43.291232</td>\n",
       "      <td>13.054903</td>\n",
       "    </tr>\n",
       "    <tr>\n",
       "      <th>min</th>\n",
       "      <td>0.000000</td>\n",
       "      <td>0.000000</td>\n",
       "    </tr>\n",
       "    <tr>\n",
       "      <th>25%</th>\n",
       "      <td>0.000000</td>\n",
       "      <td>0.000000</td>\n",
       "    </tr>\n",
       "    <tr>\n",
       "      <th>50%</th>\n",
       "      <td>0.000000</td>\n",
       "      <td>0.000000</td>\n",
       "    </tr>\n",
       "    <tr>\n",
       "      <th>75%</th>\n",
       "      <td>0.000000</td>\n",
       "      <td>0.000000</td>\n",
       "    </tr>\n",
       "    <tr>\n",
       "      <th>max</th>\n",
       "      <td>10413.950000</td>\n",
       "      <td>2719.670000</td>\n",
       "    </tr>\n",
       "  </tbody>\n",
       "</table>\n",
       "</div>"
      ],
      "text/plain": [
       "             revenue  revenue_before\n",
       "count  424320.000000   424320.000000\n",
       "mean        1.954420        0.476234\n",
       "std        43.291232       13.054903\n",
       "min         0.000000        0.000000\n",
       "25%         0.000000        0.000000\n",
       "50%         0.000000        0.000000\n",
       "75%         0.000000        0.000000\n",
       "max     10413.950000     2719.670000"
      ]
     },
     "execution_count": 241,
     "metadata": {},
     "output_type": "execute_result"
    }
   ],
   "source": [
    "#Print summary statistics for revenue\n",
    "df[['revenue', 'revenue_before']].describe()"
   ]
  },
  {
   "cell_type": "code",
   "execution_count": 242,
   "metadata": {},
   "outputs": [
    {
     "data": {
      "text/plain": [
       "array([[<matplotlib.axes._subplots.AxesSubplot object at 0x000001F1A05A3C18>,\n",
       "        <matplotlib.axes._subplots.AxesSubplot object at 0x000001F1A05D2198>]],\n",
       "      dtype=object)"
      ]
     },
     "execution_count": 242,
     "metadata": {},
     "output_type": "execute_result"
    },
    {
     "data": {
      "image/png": "[encoded data removed]",
      "text/plain": [
       "<Figure size 432x288 with 2 Axes>"
      ]
     },
     "metadata": {
      "needs_background": "light"
     },
     "output_type": "display_data"
    }
   ],
   "source": [
    "#Print out a histogram for revenue because it appears to be highly skewed\n",
    "df[['revenue', 'revenue_before']].hist()"
   ]
  },
  {
   "cell_type": "code",
   "execution_count": 243,
   "metadata": {},
   "outputs": [
    {
     "data": {
      "text/plain": [
       "count    12216.000000\n",
       "mean        67.886324\n",
       "std        246.224376\n",
       "min          0.140000\n",
       "25%          5.980000\n",
       "50%         14.990000\n",
       "75%         49.990000\n",
       "max      10413.950000\n",
       "Name: revenue, dtype: float64"
      ]
     },
     "execution_count": 243,
     "metadata": {},
     "output_type": "execute_result"
    }
   ],
   "source": [
    "#Distribution is highly right skewed, which makes sense, but that means we likely want to look at the median of a measure\n",
    "#of centrality and also want to look at data for users who did spend money (omitting 0s)\n",
    "df[df['revenue']>0]['revenue'].describe()"
   ]
  },
  {
   "cell_type": "code",
   "execution_count": 244,
   "metadata": {},
   "outputs": [
    {
     "data": {
      "text/html": [
       "<div>\n",
       "<style scoped>\n",
       "    .dataframe tbody tr th:only-of-type {\n",
       "        vertical-align: middle;\n",
       "    }\n",
       "\n",
       "    .dataframe tbody tr th {\n",
       "        vertical-align: top;\n",
       "    }\n",
       "\n",
       "    .dataframe thead th {\n",
       "        text-align: right;\n",
       "    }\n",
       "</style>\n",
       "<table border=\"1\" class=\"dataframe\">\n",
       "  <thead>\n",
       "    <tr style=\"text-align: right;\">\n",
       "      <th></th>\n",
       "      <th></th>\n",
       "      <th>revenue</th>\n",
       "    </tr>\n",
       "    <tr>\n",
       "      <th>u_custom_platform</th>\n",
       "      <th>variant</th>\n",
       "      <th></th>\n",
       "    </tr>\n",
       "  </thead>\n",
       "  <tbody>\n",
       "    <tr>\n",
       "      <th rowspan=\"3\" valign=\"top\">Amazon</th>\n",
       "      <th>0</th>\n",
       "      <td>19.960</td>\n",
       "    </tr>\n",
       "    <tr>\n",
       "      <th>1</th>\n",
       "      <td>19.960</td>\n",
       "    </tr>\n",
       "    <tr>\n",
       "      <th>2</th>\n",
       "      <td>15.980</td>\n",
       "    </tr>\n",
       "    <tr>\n",
       "      <th rowspan=\"3\" valign=\"top\">Android</th>\n",
       "      <th>0</th>\n",
       "      <td>14.990</td>\n",
       "    </tr>\n",
       "    <tr>\n",
       "      <th>1</th>\n",
       "      <td>14.990</td>\n",
       "    </tr>\n",
       "    <tr>\n",
       "      <th>2</th>\n",
       "      <td>14.990</td>\n",
       "    </tr>\n",
       "    <tr>\n",
       "      <th rowspan=\"3\" valign=\"top\">iOS</th>\n",
       "      <th>0</th>\n",
       "      <td>14.990</td>\n",
       "    </tr>\n",
       "    <tr>\n",
       "      <th>1</th>\n",
       "      <td>19.975</td>\n",
       "    </tr>\n",
       "    <tr>\n",
       "      <th>2</th>\n",
       "      <td>19.940</td>\n",
       "    </tr>\n",
       "  </tbody>\n",
       "</table>\n",
       "</div>"
      ],
      "text/plain": [
       "                           revenue\n",
       "u_custom_platform variant         \n",
       "Amazon            0         19.960\n",
       "                  1         19.960\n",
       "                  2         15.980\n",
       "Android           0         14.990\n",
       "                  1         14.990\n",
       "                  2         14.990\n",
       "iOS               0         14.990\n",
       "                  1         19.975\n",
       "                  2         19.940"
      ]
     },
     "execution_count": 244,
     "metadata": {},
     "output_type": "execute_result"
    }
   ],
   "source": [
    "#Are there differences in the median for those who did spend money across device types? Appears like the answer is yes.\n",
    "df[df['revenue']>0][['revenue', 'u_custom_platform', 'variant']].groupby(['u_custom_platform', 'variant']).median()\n",
    "# df[df['revenue']>0][['revenue', 'u_custom_platform', 'variant']].groupby(['u_custom_platform', 'variant']).count()\n",
    "#Note that there are only 500 users in each group in the Amazon categories, which is on the lower end"
   ]
  },
  {
   "cell_type": "code",
   "execution_count": 267,
   "metadata": {},
   "outputs": [
    {
     "data": {
      "text/html": [
       "<div>\n",
       "<style scoped>\n",
       "    .dataframe tbody tr th:only-of-type {\n",
       "        vertical-align: middle;\n",
       "    }\n",
       "\n",
       "    .dataframe tbody tr th {\n",
       "        vertical-align: top;\n",
       "    }\n",
       "\n",
       "    .dataframe thead th {\n",
       "        text-align: right;\n",
       "    }\n",
       "</style>\n",
       "<table border=\"1\" class=\"dataframe\">\n",
       "  <thead>\n",
       "    <tr style=\"text-align: right;\">\n",
       "      <th></th>\n",
       "      <th>revenue</th>\n",
       "    </tr>\n",
       "    <tr>\n",
       "      <th>variant</th>\n",
       "      <th></th>\n",
       "    </tr>\n",
       "  </thead>\n",
       "  <tbody>\n",
       "    <tr>\n",
       "      <th>0</th>\n",
       "      <td>14.99</td>\n",
       "    </tr>\n",
       "    <tr>\n",
       "      <th>1</th>\n",
       "      <td>15.92</td>\n",
       "    </tr>\n",
       "    <tr>\n",
       "      <th>2</th>\n",
       "      <td>15.92</td>\n",
       "    </tr>\n",
       "  </tbody>\n",
       "</table>\n",
       "</div>"
      ],
      "text/plain": [
       "         revenue\n",
       "variant         \n",
       "0          14.99\n",
       "1          15.92\n",
       "2          15.92"
      ]
     },
     "execution_count": 267,
     "metadata": {},
     "output_type": "execute_result"
    }
   ],
   "source": [
    "#How do the medians look without the OS breakdown?\n",
    "df[df['revenue']>0][['revenue', 'variant']].groupby(['variant']).median()"
   ]
  },
  {
   "cell_type": "code",
   "execution_count": 245,
   "metadata": {},
   "outputs": [
    {
     "data": {
      "text/plain": [
       "<matplotlib.axes._subplots.AxesSubplot at 0x1f1a060be80>"
      ]
     },
     "execution_count": 245,
     "metadata": {},
     "output_type": "execute_result"
    },
    {
     "data": {
      "image/png": "[encoded data removed]",
      "text/plain": [
       "<Figure size 432x288 with 1 Axes>"
      ]
     },
     "metadata": {
      "needs_background": "light"
     },
     "output_type": "display_data"
    }
   ],
   "source": [
    "# Because we have a highly right skewed distribution for revneue, which will be one of our dependent variables, we will\n",
    "# need to perform a variable transformation on the variable to be albe to run continuous distribution tests, since\n",
    "# normality is an assumption for each of those tests\n",
    "\n",
    "# Right skewed distributions are generally log normal, so let's use the logistic boxcox transformation to correct the\n",
    "# distribution and recheck the results\n",
    "\n",
    "posdf = df[df['bc']>0]\n",
    "posdf['log_rev'] = boxcox(posdf['revenue'], 0)\n",
    "posdf['log_rev'].hist()"
   ]
  },
  {
   "cell_type": "code",
   "execution_count": 246,
   "metadata": {},
   "outputs": [
    {
     "name": "stdout",
     "output_type": "stream",
     "text": [
      "0.000000\n"
     ]
    }
   ],
   "source": [
    "#Use a one way Anova test to test for independence between types of OS users when looking at the transformed revenue\n",
    "iOSl = posdf[posdf['u_custom_platform']=='iOS']['log_rev'].tolist()\n",
    "Androidl = posdf[posdf['u_custom_platform']=='Android']['log_rev'].tolist()\n",
    "Amazonl = posdf[posdf['u_custom_platform']=='Amazon']['log_rev'].tolist()\n",
    "\n",
    "test, pvalue = f_oneway(iOSl, Androidl, Amazonl)\n",
    "print('{:f}'.format(pvalue)) \n",
    "#Note that the pvalue is 0, which is highly significant, so the groups are independent and should be tested separately"
   ]
  },
  {
   "cell_type": "code",
   "execution_count": 289,
   "metadata": {},
   "outputs": [
    {
     "data": {
      "text/plain": [
       "<matplotlib.axes._subplots.AxesSubplot at 0x1f1a11edcc0>"
      ]
     },
     "execution_count": 289,
     "metadata": {},
     "output_type": "execute_result"
    },
    {
     "data": {
      "image/png": "[encoded data removed]",
      "text/plain": [
       "<Figure size 432x288 with 1 Axes>"
      ]
     },
     "metadata": {
      "needs_background": "light"
     },
     "output_type": "display_data"
    }
   ],
   "source": [
    "#Apply the same transformation to heartbeats\n",
    "posdf['log_hb'] = boxcox((posdf['heartbeats']+0.3), 0)\n",
    "posdf['log_hb'].hist()"
   ]
  },
  {
   "cell_type": "code",
   "execution_count": 290,
   "metadata": {},
   "outputs": [
    {
     "data": {
      "text/html": [
       "<div>\n",
       "<style scoped>\n",
       "    .dataframe tbody tr th:only-of-type {\n",
       "        vertical-align: middle;\n",
       "    }\n",
       "\n",
       "    .dataframe tbody tr th {\n",
       "        vertical-align: top;\n",
       "    }\n",
       "\n",
       "    .dataframe thead th {\n",
       "        text-align: right;\n",
       "    }\n",
       "</style>\n",
       "<table border=\"1\" class=\"dataframe\">\n",
       "  <thead>\n",
       "    <tr style=\"text-align: right;\">\n",
       "      <th></th>\n",
       "      <th>log_hb</th>\n",
       "    </tr>\n",
       "    <tr>\n",
       "      <th>variant</th>\n",
       "      <th></th>\n",
       "    </tr>\n",
       "  </thead>\n",
       "  <tbody>\n",
       "    <tr>\n",
       "      <th>0</th>\n",
       "      <td>5.084978</td>\n",
       "    </tr>\n",
       "    <tr>\n",
       "      <th>1</th>\n",
       "      <td>5.083210</td>\n",
       "    </tr>\n",
       "    <tr>\n",
       "      <th>2</th>\n",
       "      <td>5.129746</td>\n",
       "    </tr>\n",
       "  </tbody>\n",
       "</table>\n",
       "</div>"
      ],
      "text/plain": [
       "           log_hb\n",
       "variant          \n",
       "0        5.084978\n",
       "1        5.083210\n",
       "2        5.129746"
      ]
     },
     "execution_count": 290,
     "metadata": {},
     "output_type": "execute_result"
    }
   ],
   "source": [
    "#Double check the centrality of heartbeats now that we have a standard normal distribution -- still little to no difference\n",
    "posdf[['variant', 'log_hb']].groupby('variant').mean()"
   ]
  },
  {
   "cell_type": "markdown",
   "metadata": {},
   "source": [
    "## Step 2: Define Hypothesis Testing Functions"
   ]
  },
  {
   "cell_type": "code",
   "execution_count": 136,
   "metadata": {},
   "outputs": [],
   "source": [
    "# Define a function for testing binomial distribution dependent variables\n",
    "def binomial_testing(list1, list2):\n",
    "    #When values are small, fishers t test is most appropriate\n",
    "    test, fisher_pvalue = fisher_exact([list1, list2])\n",
    "    \n",
    "    #For large values, chi square is most appropriate\n",
    "    #When values are large, values between fishers exact and chi2 are typically very similar\n",
    "    test, chi_pvalue, dof, arr = chi2_contingency([list1, list2])\n",
    "    return fisher_pvalue, chi_pvalue"
   ]
  },
  {
   "cell_type": "code",
   "execution_count": 129,
   "metadata": {},
   "outputs": [],
   "source": [
    "# Define a function for testing continuous distribution dependent variables\n",
    "def cont_testing(variant_c, variant_t):\n",
    "    # Welch's T Test - The null hypothesis for the test is that the means are equal. Reject with small values of p.\n",
    "    test, welch_pvalue = ttest_ind(variant_c, variant_t, equal_var = False)\n",
    "    \n",
    "    # A oneway Anova is sometimes an improvement on a standard T Test\n",
    "    # Null hypothesis of a one way anova that the mean (average value of the dependent variable) is the same for all groups, \n",
    "    # which means that the values likely come from the same distribution and not different distributions - it also means that\n",
    "    # variation is likely due to chance - reject with small values of p\n",
    "    test, anova_pvalue = f_oneway(variant_c, variant_t)\n",
    "    return welch_pvalue, anova_pvalue"
   ]
  },
  {
   "cell_type": "markdown",
   "metadata": {},
   "source": [
    "## Step 3: Run Hypothesis Tests"
   ]
  },
  {
   "cell_type": "markdown",
   "metadata": {},
   "source": [
    "#### Binomial Distribution Tests"
   ]
  },
  {
   "cell_type": "code",
   "execution_count": 141,
   "metadata": {},
   "outputs": [
    {
     "data": {
      "text/html": [
       "<div>\n",
       "<style scoped>\n",
       "    .dataframe tbody tr th:only-of-type {\n",
       "        vertical-align: middle;\n",
       "    }\n",
       "\n",
       "    .dataframe tbody tr th {\n",
       "        vertical-align: top;\n",
       "    }\n",
       "\n",
       "    .dataframe thead th {\n",
       "        text-align: right;\n",
       "    }\n",
       "</style>\n",
       "<table border=\"1\" class=\"dataframe\">\n",
       "  <thead>\n",
       "    <tr style=\"text-align: right;\">\n",
       "      <th></th>\n",
       "      <th>bc</th>\n",
       "      <th>total</th>\n",
       "      <th>n_bc</th>\n",
       "      <th>rate</th>\n",
       "    </tr>\n",
       "    <tr>\n",
       "      <th>variant</th>\n",
       "      <th></th>\n",
       "      <th></th>\n",
       "      <th></th>\n",
       "      <th></th>\n",
       "    </tr>\n",
       "  </thead>\n",
       "  <tbody>\n",
       "    <tr>\n",
       "      <th>0</th>\n",
       "      <td>3997</td>\n",
       "      <td>141254</td>\n",
       "      <td>137257</td>\n",
       "      <td>0.028297</td>\n",
       "    </tr>\n",
       "    <tr>\n",
       "      <th>1</th>\n",
       "      <td>4101</td>\n",
       "      <td>141790</td>\n",
       "      <td>137689</td>\n",
       "      <td>0.028923</td>\n",
       "    </tr>\n",
       "    <tr>\n",
       "      <th>2</th>\n",
       "      <td>4120</td>\n",
       "      <td>141278</td>\n",
       "      <td>137158</td>\n",
       "      <td>0.029162</td>\n",
       "    </tr>\n",
       "  </tbody>\n",
       "</table>\n",
       "</div>"
      ],
      "text/plain": [
       "           bc   total    n_bc      rate\n",
       "variant                                \n",
       "0        3997  141254  137257  0.028297\n",
       "1        4101  141790  137689  0.028923\n",
       "2        4120  141278  137158  0.029162"
      ]
     },
     "execution_count": 141,
     "metadata": {},
     "output_type": "execute_result"
    }
   ],
   "source": [
    "# Start by testing whether users in the groups were more likely to make a purchase in the control, variant1, or variant2\n",
    "purch = df.pivot_table(values='bc', index=['variant'], aggfunc=np.sum)\n",
    "\n",
    "purch['total'] = df.pivot_table(values='bc', index=['variant'], aggfunc=lambda x: len(x))\n",
    "purch['n_bc'] = purch['total'] - purch['bc']\n",
    "purch['rate'] = df.pivot_table(values='bc', index=['variant'])\n",
    "\n",
    "purch.head()"
   ]
  },
  {
   "cell_type": "code",
   "execution_count": 133,
   "metadata": {},
   "outputs": [],
   "source": [
    "# Manually construct the contingency table required for the tests based on the purch dataframe\n",
    "purch_0 = purch['bc'].iloc[0]\n",
    "purch_1 = purch['bc'].iloc[1]\n",
    "purch_2 = purch['bc'].iloc[2]\n",
    "\n",
    "npurch_0 = purch['n_bc'].iloc[0]\n",
    "npurch_1 = purch['n_bc'].iloc[1]\n",
    "npurch_2 = purch['n_bc'].iloc[2]"
   ]
  },
  {
   "cell_type": "code",
   "execution_count": 137,
   "metadata": {},
   "outputs": [
    {
     "name": "stdout",
     "output_type": "stream",
     "text": [
      "Fisher p:  0.3211050689333389\n",
      "Chi p:  0.3229480726595856\n"
     ]
    }
   ],
   "source": [
    "#Run the binomial tests for control vs variant 1\n",
    "fisher, chi = binomial_testing([purch_0, npurch_0], [purch_1, npurch_1])\n",
    "print('Fisher p: ', fisher)\n",
    "print('Chi p: ', chi)"
   ]
  },
  {
   "cell_type": "code",
   "execution_count": 138,
   "metadata": {},
   "outputs": [
    {
     "name": "stdout",
     "output_type": "stream",
     "text": [
      "Fisher p:  0.16944574538132814\n",
      "Chi p:  0.17186019575585482\n"
     ]
    }
   ],
   "source": [
    "#Run the binomial tests for control vs variant 2\n",
    "fisher, chi = binomial_testing([purch_0, npurch_0], [purch_2, npurch_2])\n",
    "print('Fisher p: ', fisher)\n",
    "print('Chi p: ', chi)"
   ]
  },
  {
   "cell_type": "code",
   "execution_count": 157,
   "metadata": {},
   "outputs": [
    {
     "data": {
      "text/html": [
       "<div>\n",
       "<style scoped>\n",
       "    .dataframe tbody tr th:only-of-type {\n",
       "        vertical-align: middle;\n",
       "    }\n",
       "\n",
       "    .dataframe tbody tr th {\n",
       "        vertical-align: top;\n",
       "    }\n",
       "\n",
       "    .dataframe thead th {\n",
       "        text-align: right;\n",
       "    }\n",
       "</style>\n",
       "<table border=\"1\" class=\"dataframe\">\n",
       "  <thead>\n",
       "    <tr style=\"text-align: right;\">\n",
       "      <th></th>\n",
       "      <th></th>\n",
       "      <th>bc</th>\n",
       "      <th>total</th>\n",
       "      <th>n_bc</th>\n",
       "      <th>rate</th>\n",
       "    </tr>\n",
       "    <tr>\n",
       "      <th>variant</th>\n",
       "      <th>u_custom_platform</th>\n",
       "      <th></th>\n",
       "      <th></th>\n",
       "      <th></th>\n",
       "      <th></th>\n",
       "    </tr>\n",
       "  </thead>\n",
       "  <tbody>\n",
       "    <tr>\n",
       "      <th rowspan=\"3\" valign=\"top\">0</th>\n",
       "      <th>Amazon</th>\n",
       "      <td>525</td>\n",
       "      <td>12400</td>\n",
       "      <td>11875</td>\n",
       "      <td>0.042339</td>\n",
       "    </tr>\n",
       "    <tr>\n",
       "      <th>Android</th>\n",
       "      <td>1206</td>\n",
       "      <td>56899</td>\n",
       "      <td>55693</td>\n",
       "      <td>0.021195</td>\n",
       "    </tr>\n",
       "    <tr>\n",
       "      <th>iOS</th>\n",
       "      <td>2266</td>\n",
       "      <td>71955</td>\n",
       "      <td>69689</td>\n",
       "      <td>0.031492</td>\n",
       "    </tr>\n",
       "    <tr>\n",
       "      <th rowspan=\"3\" valign=\"top\">1</th>\n",
       "      <th>Amazon</th>\n",
       "      <td>511</td>\n",
       "      <td>12351</td>\n",
       "      <td>11840</td>\n",
       "      <td>0.041373</td>\n",
       "    </tr>\n",
       "    <tr>\n",
       "      <th>Android</th>\n",
       "      <td>1274</td>\n",
       "      <td>57733</td>\n",
       "      <td>56459</td>\n",
       "      <td>0.022067</td>\n",
       "    </tr>\n",
       "    <tr>\n",
       "      <th>iOS</th>\n",
       "      <td>2316</td>\n",
       "      <td>71706</td>\n",
       "      <td>69390</td>\n",
       "      <td>0.032299</td>\n",
       "    </tr>\n",
       "    <tr>\n",
       "      <th rowspan=\"3\" valign=\"top\">2</th>\n",
       "      <th>Amazon</th>\n",
       "      <td>511</td>\n",
       "      <td>12144</td>\n",
       "      <td>11633</td>\n",
       "      <td>0.042078</td>\n",
       "    </tr>\n",
       "    <tr>\n",
       "      <th>Android</th>\n",
       "      <td>1210</td>\n",
       "      <td>57085</td>\n",
       "      <td>55875</td>\n",
       "      <td>0.021196</td>\n",
       "    </tr>\n",
       "    <tr>\n",
       "      <th>iOS</th>\n",
       "      <td>2399</td>\n",
       "      <td>72049</td>\n",
       "      <td>69650</td>\n",
       "      <td>0.033297</td>\n",
       "    </tr>\n",
       "  </tbody>\n",
       "</table>\n",
       "</div>"
      ],
      "text/plain": [
       "                             bc  total   n_bc      rate\n",
       "variant u_custom_platform                              \n",
       "0       Amazon              525  12400  11875  0.042339\n",
       "        Android            1206  56899  55693  0.021195\n",
       "        iOS                2266  71955  69689  0.031492\n",
       "1       Amazon              511  12351  11840  0.041373\n",
       "        Android            1274  57733  56459  0.022067\n",
       "        iOS                2316  71706  69390  0.032299\n",
       "2       Amazon              511  12144  11633  0.042078\n",
       "        Android            1210  57085  55875  0.021196\n",
       "        iOS                2399  72049  69650  0.033297"
      ]
     },
     "execution_count": 157,
     "metadata": {},
     "output_type": "execute_result"
    }
   ],
   "source": [
    "# Repeat testing for each variant but broken down by OS\n",
    "purch_OS = df.pivot_table(values='bc', index=['variant', 'u_custom_platform'], aggfunc=np.sum)\n",
    "\n",
    "purch_OS['total'] = df.pivot_table(values='bc', index=['variant', 'u_custom_platform'], aggfunc=lambda x: len(x))\n",
    "purch_OS['n_bc'] = purch_OS['total'] - purch_OS['bc']\n",
    "purch_OS['rate'] = df.pivot_table(values='bc', index=['variant', 'u_custom_platform'])\n",
    "\n",
    "purch_OS.head(10)"
   ]
  },
  {
   "cell_type": "code",
   "execution_count": 179,
   "metadata": {},
   "outputs": [],
   "source": [
    "def create_OSvals(OS, num_variants):\n",
    "    d = {}\n",
    "    i = 0\n",
    "    while i < num_variants:\n",
    "        d['purch_'+str(i)] = purch_OS['bc'].loc[i][OS]\n",
    "        d['npurch_'+str(i)] = purch_OS['n_bc'].loc[i][OS]\n",
    "        i += 1\n",
    "    return d\n",
    "\n",
    "iOS = create_OSvals('iOS', 3)\n",
    "Android = create_OSvals('Android', 3)\n",
    "Amazon = create_OSvals('Amazon', 3)"
   ]
  },
  {
   "cell_type": "code",
   "execution_count": 180,
   "metadata": {},
   "outputs": [
    {
     "name": "stdout",
     "output_type": "stream",
     "text": [
      "iOS Variant 1:\n",
      "Fisher p:  0.3920951107294604\n",
      "Chi p:  0.3925768955044566\n",
      "\n",
      "iOS Variant 2:\n",
      "Fisher p:  0.05483941501125613\n",
      "Chi p:  0.054935139264784806\n"
     ]
    }
   ],
   "source": [
    "#Run the test for control vs variant 1 for iOS\n",
    "fisher, chi = binomial_testing([iOS['purch_0'], iOS['npurch_0']], [iOS['purch_1'], iOS['npurch_1']])\n",
    "print('iOS Variant 1:')\n",
    "print('Fisher p: ', fisher)\n",
    "print('Chi p: ', chi)\n",
    "print('')\n",
    "fisher, chi = binomial_testing([iOS['purch_0'], iOS['npurch_0']], [iOS['purch_2'], iOS['npurch_2']])\n",
    "print('iOS Variant 2:')\n",
    "print('Fisher p: ', fisher)\n",
    "print('Chi p: ', chi)"
   ]
  },
  {
   "cell_type": "code",
   "execution_count": 181,
   "metadata": {},
   "outputs": [
    {
     "name": "stdout",
     "output_type": "stream",
     "text": [
      "Android Variant 1:\n",
      "Fisher p:  0.3198390875943393\n",
      "Chi p:  0.32026482770648557\n",
      "\n",
      "Android Variant 2:\n",
      "Fisher p:  1.0\n",
      "Chi p:  0.9845376842483604\n"
     ]
    }
   ],
   "source": [
    "#Run the test for control vs variant 1 for Android\n",
    "fisher, chi = binomial_testing([Android['purch_0'], Android['npurch_0']], [Android['purch_1'], Android['npurch_1']])\n",
    "print('Android Variant 1:')\n",
    "print('Fisher p: ', fisher)\n",
    "print('Chi p: ', chi)\n",
    "print('')\n",
    "fisher, chi = binomial_testing([Android['purch_0'], Android['npurch_0']], [Android['purch_2'], Android['npurch_2']])\n",
    "print('Android Variant 2:')\n",
    "print('Fisher p: ', fisher)\n",
    "print('Chi p: ', chi)"
   ]
  },
  {
   "cell_type": "code",
   "execution_count": 182,
   "metadata": {},
   "outputs": [
    {
     "name": "stdout",
     "output_type": "stream",
     "text": [
      "Amazon Variant 1:\n",
      "Fisher p:  0.7270022873989144\n",
      "Chi p:  0.7282001437761454\n",
      "\n",
      "Amazon Variant 2:\n",
      "Fisher p:  0.9241532350553425\n",
      "Chi p:  0.9444625103796405\n"
     ]
    }
   ],
   "source": [
    "#Run the test for control vs variant 1 for Amazon\n",
    "fisher, chi = binomial_testing([Amazon['purch_0'], Amazon['npurch_0']], [Amazon['purch_1'], Amazon['npurch_1']])\n",
    "print('Amazon Variant 1:')\n",
    "print('Fisher p: ', fisher)\n",
    "print('Chi p: ', chi)\n",
    "print('')\n",
    "fisher, chi = binomial_testing([Amazon['purch_0'], Amazon['npurch_0']], [Amazon['purch_2'], Amazon['npurch_2']])\n",
    "print('Amazon Variant 2:')\n",
    "print('Fisher p: ', fisher)\n",
    "print('Chi p: ', chi)"
   ]
  },
  {
   "cell_type": "code",
   "execution_count": 292,
   "metadata": {},
   "outputs": [
    {
     "data": {
      "text/html": [
       "<div>\n",
       "<style scoped>\n",
       "    .dataframe tbody tr th:only-of-type {\n",
       "        vertical-align: middle;\n",
       "    }\n",
       "\n",
       "    .dataframe tbody tr th {\n",
       "        vertical-align: top;\n",
       "    }\n",
       "\n",
       "    .dataframe thead th {\n",
       "        text-align: right;\n",
       "    }\n",
       "</style>\n",
       "<table border=\"1\" class=\"dataframe\">\n",
       "  <thead>\n",
       "    <tr style=\"text-align: right;\">\n",
       "      <th></th>\n",
       "      <th>d1</th>\n",
       "      <th>total</th>\n",
       "      <th>n_d1</th>\n",
       "      <th>rate</th>\n",
       "    </tr>\n",
       "    <tr>\n",
       "      <th>variant</th>\n",
       "      <th></th>\n",
       "      <th></th>\n",
       "      <th></th>\n",
       "      <th></th>\n",
       "    </tr>\n",
       "  </thead>\n",
       "  <tbody>\n",
       "    <tr>\n",
       "      <th>0</th>\n",
       "      <td>3241</td>\n",
       "      <td>3995</td>\n",
       "      <td>754</td>\n",
       "      <td>0.811264</td>\n",
       "    </tr>\n",
       "    <tr>\n",
       "      <th>1</th>\n",
       "      <td>3323</td>\n",
       "      <td>4101</td>\n",
       "      <td>778</td>\n",
       "      <td>0.810290</td>\n",
       "    </tr>\n",
       "    <tr>\n",
       "      <th>2</th>\n",
       "      <td>3364</td>\n",
       "      <td>4120</td>\n",
       "      <td>756</td>\n",
       "      <td>0.816505</td>\n",
       "    </tr>\n",
       "  </tbody>\n",
       "</table>\n",
       "</div>"
      ],
      "text/plain": [
       "           d1  total  n_d1      rate\n",
       "variant                             \n",
       "0        3241   3995   754  0.811264\n",
       "1        3323   4101   778  0.810290\n",
       "2        3364   4120   756  0.816505"
      ]
     },
     "execution_count": 292,
     "metadata": {},
     "output_type": "execute_result"
    }
   ],
   "source": [
    "#Test engagement for d1, d7, and d14\n",
    "eng = df[df['bc']>0].pivot_table(values='d1', index=['variant'], aggfunc=np.sum)\n",
    "\n",
    "eng['total'] = df[df['bc']>0].pivot_table(values='d1', index=['variant'], aggfunc=lambda x: len(x))\n",
    "eng['n_d1'] = eng['total'] - eng['d1']\n",
    "eng['rate'] = df[df['bc']>0].pivot_table(values='d1', index=['variant'])\n",
    "\n",
    "eng.head()"
   ]
  },
  {
   "cell_type": "code",
   "execution_count": 293,
   "metadata": {},
   "outputs": [],
   "source": [
    "# Manually construct the contingency table required for the tests based on the purch dataframe\n",
    "eng_0 = eng['d1'].iloc[0]\n",
    "eng_1 = eng['d1'].iloc[1]\n",
    "eng_2 = eng['d1'].iloc[2]\n",
    "\n",
    "neng_0 = eng['n_d1'].iloc[0]\n",
    "neng_1 = eng['n_d1'].iloc[1]\n",
    "neng_2 = eng['n_d1'].iloc[2]"
   ]
  },
  {
   "cell_type": "code",
   "execution_count": 294,
   "metadata": {},
   "outputs": [
    {
     "name": "stdout",
     "output_type": "stream",
     "text": [
      "Fisher:  0.9321609963264397\n",
      "Chi:  0.9334737477216344\n",
      "\n",
      "Fisher:  0.5492111698944564\n",
      "Chi:  0.56329146570143\n"
     ]
    }
   ],
   "source": [
    "fisher, chi = binomial_testing([eng_0, neng_0], [eng_1, neng_1])\n",
    "print('Fisher: ', fisher)\n",
    "print('Chi: ', chi)\n",
    "print('')\n",
    "\n",
    "fisher, chi = binomial_testing([eng_0, neng_0], [eng_2, neng_2])\n",
    "print('Fisher: ', fisher)\n",
    "print('Chi: ', chi)"
   ]
  },
  {
   "cell_type": "markdown",
   "metadata": {},
   "source": [
    "#### Continuous Distribution Tests"
   ]
  },
  {
   "cell_type": "code",
   "execution_count": 186,
   "metadata": {},
   "outputs": [
    {
     "name": "stdout",
     "output_type": "stream",
     "text": [
      "Variant 1: \n",
      "Welch:  0.06421127793190641\n",
      "Anova:  0.06418464825294572\n",
      "\n",
      "Variant 2: \n",
      "Welch:  0.021013323858044292\n",
      "Anova:  0.02093141947120585\n"
     ]
    }
   ],
   "source": [
    "# Perform tests on the amount of revenue for users who did make a purchase\n",
    "variant0 = posdf[posdf['variant']==0]['log_rev'].tolist()\n",
    "variant1 = posdf[posdf['variant']==1]['log_rev'].tolist()\n",
    "variant2 = posdf[posdf['variant']==2]['log_rev'].tolist()\n",
    "\n",
    "welch, anova = cont_testing(variant0, variant1)\n",
    "print('Variant 1: ')\n",
    "print('Welch: ', welch)\n",
    "print('Anova: ', anova)\n",
    "print('')\n",
    "\n",
    "welch, anova = cont_testing(variant0, variant2)\n",
    "print('Variant 2: ')\n",
    "print('Welch: ', welch)\n",
    "print('Anova: ', anova)"
   ]
  },
  {
   "cell_type": "code",
   "execution_count": 188,
   "metadata": {},
   "outputs": [
    {
     "name": "stdout",
     "output_type": "stream",
     "text": [
      "Variant 1: \n",
      "Welch:  0.0918738839787662\n",
      "Anova:  0.09181068399107133\n",
      "\n",
      "Variant 2: \n",
      "Welch:  0.13592885291991239\n",
      "Anova:  0.1352129610146056\n"
     ]
    }
   ],
   "source": [
    "# Perform tests on the amount of revenue for users who did make a purchase - iOS\n",
    "variant0 = posdf[(posdf['variant']==0) & (df['u_custom_platform']=='iOS')]['log_rev'].tolist()\n",
    "variant1 = posdf[(posdf['variant']==1) & (df['u_custom_platform']=='iOS')]['log_rev'].tolist()\n",
    "variant2 = posdf[(posdf['variant']==2) & (df['u_custom_platform']=='iOS')]['log_rev'].tolist()\n",
    "\n",
    "welch, anova = cont_testing(variant0, variant1)\n",
    "print('Variant 1: ')\n",
    "print('Welch: ', welch)\n",
    "print('Anova: ', anova)\n",
    "print('')\n",
    "\n",
    "welch, anova = cont_testing(variant0, variant2)\n",
    "print('Variant 2: ')\n",
    "print('Welch: ', welch)\n",
    "print('Anova: ', anova)"
   ]
  },
  {
   "cell_type": "code",
   "execution_count": 189,
   "metadata": {},
   "outputs": [
    {
     "name": "stdout",
     "output_type": "stream",
     "text": [
      "Variant 1: \n",
      "Welch:  0.24150650382367836\n",
      "Anova:  0.24120031974079467\n",
      "\n",
      "Variant 2: \n",
      "Welch:  0.10167199331761254\n",
      "Anova:  0.10165693771673205\n"
     ]
    }
   ],
   "source": [
    "# Perform tests on the amount of revenue for users who did make a purchase - Android\n",
    "variant0 = posdf[(posdf['variant']==0) & (df['u_custom_platform']=='Android')]['log_rev'].tolist()\n",
    "variant1 = posdf[(posdf['variant']==1) & (df['u_custom_platform']=='Android')]['log_rev'].tolist()\n",
    "variant2 = posdf[(posdf['variant']==2) & (df['u_custom_platform']=='Android')]['log_rev'].tolist()\n",
    "\n",
    "welch, anova = cont_testing(variant0, variant1)\n",
    "print('Variant 1: ')\n",
    "print('Welch: ', welch)\n",
    "print('Anova: ', anova)\n",
    "print('')\n",
    "\n",
    "welch, anova = cont_testing(variant0, variant2)\n",
    "print('Variant 2: ')\n",
    "print('Welch: ', welch)\n",
    "print('Anova: ', anova)"
   ]
  },
  {
   "cell_type": "code",
   "execution_count": 190,
   "metadata": {},
   "outputs": [
    {
     "name": "stdout",
     "output_type": "stream",
     "text": [
      "Variant 1: \n",
      "Welch:  0.9918539896482744\n",
      "Anova:  0.9918461193935646\n",
      "\n",
      "Variant 2: \n",
      "Welch:  0.5829183359724596\n",
      "Anova:  0.5827935220993603\n"
     ]
    }
   ],
   "source": [
    "# Perform tests on the amount of revenue for users who did make a purchase - Amazon\n",
    "variant0 = posdf[(posdf['variant']==0) & (df['u_custom_platform']=='Amazon')]['log_rev'].tolist()\n",
    "variant1 = posdf[(posdf['variant']==1) & (df['u_custom_platform']=='Amazon')]['log_rev'].tolist()\n",
    "variant2 = posdf[(posdf['variant']==2) & (df['u_custom_platform']=='Amazon')]['log_rev'].tolist()\n",
    "\n",
    "welch, anova = cont_testing(variant0, variant1)\n",
    "print('Variant 1: ')\n",
    "print('Welch: ', welch)\n",
    "print('Anova: ', anova)\n",
    "print('')\n",
    "\n",
    "welch, anova = cont_testing(variant0, variant2)\n",
    "print('Variant 2: ')\n",
    "print('Welch: ', welch)\n",
    "print('Anova: ', anova)"
   ]
  },
  {
   "cell_type": "code",
   "execution_count": 291,
   "metadata": {},
   "outputs": [
    {
     "name": "stdout",
     "output_type": "stream",
     "text": [
      "Variant 1:\n",
      "Welch:  0.9539547798370016\n",
      "Anova:  0.9539697775431147\n",
      "\n",
      "Variant 2:\n",
      "Welch:  0.1459942828103667\n",
      "Anova:  0.1462296134690341\n"
     ]
    }
   ],
   "source": [
    "# Test whether the variants increased playtime significantly\n",
    "variant0 = posdf[posdf['variant']==0]['log_hb'].tolist()\n",
    "variant1 = posdf[posdf['variant']==1]['log_hb'].tolist()\n",
    "variant2 = posdf[posdf['variant']==2]['log_hb'].tolist()\n",
    "\n",
    "welch, anova = cont_testing(variant0, variant1)\n",
    "print('Variant 1:')\n",
    "print('Welch: ', welch)\n",
    "print('Anova: ', anova)\n",
    "print('')\n",
    "\n",
    "welch, anova = cont_testing(variant0, variant2)\n",
    "print('Variant 2:')\n",
    "print('Welch: ', welch)\n",
    "print('Anova: ', anova)"
   ]
  }
 ],
 "metadata": {
  "kernelspec": {
   "display_name": "Python 3",
   "language": "python",
   "name": "python3"
  },
  "language_info": {
   "codemirror_mode": {
    "name": "ipython",
    "version": 3
   },
   "file_extension": ".py",
   "mimetype": "text/x-python",
   "name": "python",
   "nbconvert_exporter": "python",
   "pygments_lexer": "ipython3",
   "version": "3.7.3"
  }
 },
 "nbformat": 4,
 "nbformat_minor": 2
}
